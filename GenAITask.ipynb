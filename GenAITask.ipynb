{
 "cells": [
  {
   "cell_type": "code",
   "execution_count": 29,
   "id": "d8c89a87",
   "metadata": {},
   "outputs": [],
   "source": [
    "#import the libraries"
   ]
  },
  {
   "cell_type": "code",
   "execution_count": 30,
   "id": "4dbbc1ea",
   "metadata": {},
   "outputs": [],
   "source": [
    "import pandas as pd\n",
    "import matplotlib.pyplot as plt\n",
    "import seaborn as sns"
   ]
  },
  {
   "cell_type": "code",
   "execution_count": 31,
   "id": "7bb88c42",
   "metadata": {},
   "outputs": [],
   "source": [
    "# Load the CSV files"
   ]
  },
  {
   "cell_type": "code",
   "execution_count": 86,
   "id": "fa868678",
   "metadata": {},
   "outputs": [],
   "source": [
    "morning_df=pd.read_csv(r\"C:\\Users\\Saikiran\\Downloads\\Morning-28th-June.csv\")\n",
    "afternoon_df=pd.read_csv(r\"C:\\Users\\Saikiran\\Downloads\\Afternoon-28th-June.csv\")\n",
    "evening_df=pd.read_csv(r\"C:\\Users\\Saikiran\\Downloads\\Evening-28th-June.csv\")"
   ]
  },
  {
   "cell_type": "code",
   "execution_count": 33,
   "id": "ce43057b",
   "metadata": {},
   "outputs": [],
   "source": [
    "# Display the first few rows of each dataframe to understand the structure"
   ]
  },
  {
   "cell_type": "code",
   "execution_count": 34,
   "id": "6057c283",
   "metadata": {},
   "outputs": [
    {
     "data": {
      "text/html": [
       "<div>\n",
       "<style scoped>\n",
       "    .dataframe tbody tr th:only-of-type {\n",
       "        vertical-align: middle;\n",
       "    }\n",
       "\n",
       "    .dataframe tbody tr th {\n",
       "        vertical-align: top;\n",
       "    }\n",
       "\n",
       "    .dataframe thead th {\n",
       "        text-align: right;\n",
       "    }\n",
       "</style>\n",
       "<table border=\"1\" class=\"dataframe\">\n",
       "  <thead>\n",
       "    <tr style=\"text-align: right;\">\n",
       "      <th></th>\n",
       "      <th>Name (Original Name)</th>\n",
       "      <th>User Email</th>\n",
       "      <th>Join Time</th>\n",
       "      <th>Leave Time</th>\n",
       "      <th>Duration (Minutes)</th>\n",
       "      <th>Guest</th>\n",
       "      <th>In Waiting Room</th>\n",
       "    </tr>\n",
       "  </thead>\n",
       "  <tbody>\n",
       "    <tr>\n",
       "      <th>0</th>\n",
       "      <td>Krishna Singh (Akshita Roshan)</td>\n",
       "      <td>akshita@agie.ai</td>\n",
       "      <td>06/28/2024 09:52:45 AM</td>\n",
       "      <td>06/28/2024 10:17:06 AM</td>\n",
       "      <td>25</td>\n",
       "      <td>No</td>\n",
       "      <td>No</td>\n",
       "    </tr>\n",
       "    <tr>\n",
       "      <th>1</th>\n",
       "      <td>Chetan Kumar</td>\n",
       "      <td>NaN</td>\n",
       "      <td>06/28/2024 09:52:52 AM</td>\n",
       "      <td>06/28/2024 09:52:57 AM</td>\n",
       "      <td>1</td>\n",
       "      <td>Yes</td>\n",
       "      <td>Yes</td>\n",
       "    </tr>\n",
       "    <tr>\n",
       "      <th>2</th>\n",
       "      <td>Akshita Roshan</td>\n",
       "      <td>NaN</td>\n",
       "      <td>06/28/2024 09:52:52 AM</td>\n",
       "      <td>06/28/2024 09:53:08 AM</td>\n",
       "      <td>1</td>\n",
       "      <td>Yes</td>\n",
       "      <td>Yes</td>\n",
       "    </tr>\n",
       "    <tr>\n",
       "      <th>3</th>\n",
       "      <td>Kshitij Tardalkar</td>\n",
       "      <td>NaN</td>\n",
       "      <td>06/28/2024 09:52:56 AM</td>\n",
       "      <td>06/28/2024 09:56:52 AM</td>\n",
       "      <td>4</td>\n",
       "      <td>Yes</td>\n",
       "      <td>Yes</td>\n",
       "    </tr>\n",
       "    <tr>\n",
       "      <th>4</th>\n",
       "      <td>Chetan Kumar</td>\n",
       "      <td>NaN</td>\n",
       "      <td>06/28/2024 09:52:57 AM</td>\n",
       "      <td>06/28/2024 10:16:12 AM</td>\n",
       "      <td>24</td>\n",
       "      <td>Yes</td>\n",
       "      <td>No</td>\n",
       "    </tr>\n",
       "  </tbody>\n",
       "</table>\n",
       "</div>"
      ],
      "text/plain": [
       "             Name (Original Name)       User Email               Join Time  \\\n",
       "0  Krishna Singh (Akshita Roshan)  akshita@agie.ai  06/28/2024 09:52:45 AM   \n",
       "1                    Chetan Kumar              NaN  06/28/2024 09:52:52 AM   \n",
       "2                  Akshita Roshan              NaN  06/28/2024 09:52:52 AM   \n",
       "3               Kshitij Tardalkar              NaN  06/28/2024 09:52:56 AM   \n",
       "4                    Chetan Kumar              NaN  06/28/2024 09:52:57 AM   \n",
       "\n",
       "               Leave Time  Duration (Minutes) Guest In Waiting Room  \n",
       "0  06/28/2024 10:17:06 AM                  25    No              No  \n",
       "1  06/28/2024 09:52:57 AM                   1   Yes             Yes  \n",
       "2  06/28/2024 09:53:08 AM                   1   Yes             Yes  \n",
       "3  06/28/2024 09:56:52 AM                   4   Yes             Yes  \n",
       "4  06/28/2024 10:16:12 AM                  24   Yes              No  "
      ]
     },
     "execution_count": 34,
     "metadata": {},
     "output_type": "execute_result"
    }
   ],
   "source": [
    "morning.head()"
   ]
  },
  {
   "cell_type": "code",
   "execution_count": 35,
   "id": "14613a42",
   "metadata": {},
   "outputs": [
    {
     "data": {
      "text/html": [
       "<div>\n",
       "<style scoped>\n",
       "    .dataframe tbody tr th:only-of-type {\n",
       "        vertical-align: middle;\n",
       "    }\n",
       "\n",
       "    .dataframe tbody tr th {\n",
       "        vertical-align: top;\n",
       "    }\n",
       "\n",
       "    .dataframe thead th {\n",
       "        text-align: right;\n",
       "    }\n",
       "</style>\n",
       "<table border=\"1\" class=\"dataframe\">\n",
       "  <thead>\n",
       "    <tr style=\"text-align: right;\">\n",
       "      <th></th>\n",
       "      <th>Name (Original Name)</th>\n",
       "      <th>User Email</th>\n",
       "      <th>Join Time</th>\n",
       "      <th>Leave Time</th>\n",
       "      <th>Duration (Minutes)</th>\n",
       "      <th>Guest</th>\n",
       "      <th>In Waiting Room</th>\n",
       "    </tr>\n",
       "  </thead>\n",
       "  <tbody>\n",
       "    <tr>\n",
       "      <th>0</th>\n",
       "      <td>Krisha Singh (Akshita Roshan)</td>\n",
       "      <td>akshita@agie.ai</td>\n",
       "      <td>06/28/2024 03:57:40 PM</td>\n",
       "      <td>06/28/2024 04:19:20 PM</td>\n",
       "      <td>22</td>\n",
       "      <td>No</td>\n",
       "      <td>No</td>\n",
       "    </tr>\n",
       "    <tr>\n",
       "      <th>1</th>\n",
       "      <td>Tanuja</td>\n",
       "      <td>NaN</td>\n",
       "      <td>06/28/2024 03:57:49 PM</td>\n",
       "      <td>06/28/2024 03:58:04 PM</td>\n",
       "      <td>1</td>\n",
       "      <td>Yes</td>\n",
       "      <td>Yes</td>\n",
       "    </tr>\n",
       "    <tr>\n",
       "      <th>2</th>\n",
       "      <td>Yash Goel</td>\n",
       "      <td>NaN</td>\n",
       "      <td>06/28/2024 03:57:53 PM</td>\n",
       "      <td>06/28/2024 03:58:09 PM</td>\n",
       "      <td>1</td>\n",
       "      <td>Yes</td>\n",
       "      <td>Yes</td>\n",
       "    </tr>\n",
       "    <tr>\n",
       "      <th>3</th>\n",
       "      <td>Darshan</td>\n",
       "      <td>NaN</td>\n",
       "      <td>06/28/2024 03:57:53 PM</td>\n",
       "      <td>06/28/2024 03:58:09 PM</td>\n",
       "      <td>1</td>\n",
       "      <td>Yes</td>\n",
       "      <td>Yes</td>\n",
       "    </tr>\n",
       "    <tr>\n",
       "      <th>4</th>\n",
       "      <td>sneha pawar</td>\n",
       "      <td>NaN</td>\n",
       "      <td>06/28/2024 03:57:56 PM</td>\n",
       "      <td>06/28/2024 03:58:20 PM</td>\n",
       "      <td>1</td>\n",
       "      <td>Yes</td>\n",
       "      <td>Yes</td>\n",
       "    </tr>\n",
       "  </tbody>\n",
       "</table>\n",
       "</div>"
      ],
      "text/plain": [
       "            Name (Original Name)       User Email               Join Time  \\\n",
       "0  Krisha Singh (Akshita Roshan)  akshita@agie.ai  06/28/2024 03:57:40 PM   \n",
       "1                         Tanuja              NaN  06/28/2024 03:57:49 PM   \n",
       "2                      Yash Goel              NaN  06/28/2024 03:57:53 PM   \n",
       "3                        Darshan              NaN  06/28/2024 03:57:53 PM   \n",
       "4                    sneha pawar              NaN  06/28/2024 03:57:56 PM   \n",
       "\n",
       "               Leave Time  Duration (Minutes) Guest In Waiting Room  \n",
       "0  06/28/2024 04:19:20 PM                  22    No              No  \n",
       "1  06/28/2024 03:58:04 PM                   1   Yes             Yes  \n",
       "2  06/28/2024 03:58:09 PM                   1   Yes             Yes  \n",
       "3  06/28/2024 03:58:09 PM                   1   Yes             Yes  \n",
       "4  06/28/2024 03:58:20 PM                   1   Yes             Yes  "
      ]
     },
     "execution_count": 35,
     "metadata": {},
     "output_type": "execute_result"
    }
   ],
   "source": [
    "afternoon.head()"
   ]
  },
  {
   "cell_type": "code",
   "execution_count": 36,
   "id": "53a1a4f9",
   "metadata": {},
   "outputs": [
    {
     "data": {
      "text/html": [
       "<div>\n",
       "<style scoped>\n",
       "    .dataframe tbody tr th:only-of-type {\n",
       "        vertical-align: middle;\n",
       "    }\n",
       "\n",
       "    .dataframe tbody tr th {\n",
       "        vertical-align: top;\n",
       "    }\n",
       "\n",
       "    .dataframe thead th {\n",
       "        text-align: right;\n",
       "    }\n",
       "</style>\n",
       "<table border=\"1\" class=\"dataframe\">\n",
       "  <thead>\n",
       "    <tr style=\"text-align: right;\">\n",
       "      <th></th>\n",
       "      <th>Name (Original Name)</th>\n",
       "      <th>User Email</th>\n",
       "      <th>Join Time</th>\n",
       "      <th>Leave Time</th>\n",
       "      <th>Duration (Minutes)</th>\n",
       "      <th>Guest</th>\n",
       "      <th>Recording Disclaimer Response</th>\n",
       "      <th>In Waiting Room</th>\n",
       "    </tr>\n",
       "  </thead>\n",
       "  <tbody>\n",
       "    <tr>\n",
       "      <th>0</th>\n",
       "      <td>Agrima Jain</td>\n",
       "      <td>NaN</td>\n",
       "      <td>06/28/2024 08:56:01 PM</td>\n",
       "      <td>06/28/2024 08:59:15 PM</td>\n",
       "      <td>4</td>\n",
       "      <td>Yes</td>\n",
       "      <td>No Response</td>\n",
       "      <td>No</td>\n",
       "    </tr>\n",
       "    <tr>\n",
       "      <th>1</th>\n",
       "      <td>AIML-19-SHOUNAK_SARKAR</td>\n",
       "      <td>NaN</td>\n",
       "      <td>06/28/2024 08:56:04 PM</td>\n",
       "      <td>06/28/2024 08:57:19 PM</td>\n",
       "      <td>2</td>\n",
       "      <td>Yes</td>\n",
       "      <td>No Response</td>\n",
       "      <td>Yes</td>\n",
       "    </tr>\n",
       "    <tr>\n",
       "      <th>2</th>\n",
       "      <td>Akshita Roshan</td>\n",
       "      <td>NaN</td>\n",
       "      <td>06/28/2024 08:56:07 PM</td>\n",
       "      <td>06/28/2024 08:57:20 PM</td>\n",
       "      <td>2</td>\n",
       "      <td>Yes</td>\n",
       "      <td>No Response</td>\n",
       "      <td>Yes</td>\n",
       "    </tr>\n",
       "    <tr>\n",
       "      <th>3</th>\n",
       "      <td>Revanth Christober M</td>\n",
       "      <td>NaN</td>\n",
       "      <td>06/28/2024 08:56:08 PM</td>\n",
       "      <td>06/28/2024 08:57:24 PM</td>\n",
       "      <td>2</td>\n",
       "      <td>Yes</td>\n",
       "      <td>No Response</td>\n",
       "      <td>Yes</td>\n",
       "    </tr>\n",
       "    <tr>\n",
       "      <th>4</th>\n",
       "      <td>Krishna Singh (Akshita Roshan)</td>\n",
       "      <td>akshita@agie.ai</td>\n",
       "      <td>06/28/2024 08:56:10 PM</td>\n",
       "      <td>06/28/2024 09:19:37 PM</td>\n",
       "      <td>24</td>\n",
       "      <td>No</td>\n",
       "      <td>OK</td>\n",
       "      <td>No</td>\n",
       "    </tr>\n",
       "  </tbody>\n",
       "</table>\n",
       "</div>"
      ],
      "text/plain": [
       "             Name (Original Name)       User Email               Join Time  \\\n",
       "0                     Agrima Jain              NaN  06/28/2024 08:56:01 PM   \n",
       "1          AIML-19-SHOUNAK_SARKAR              NaN  06/28/2024 08:56:04 PM   \n",
       "2                  Akshita Roshan              NaN  06/28/2024 08:56:07 PM   \n",
       "3            Revanth Christober M              NaN  06/28/2024 08:56:08 PM   \n",
       "4  Krishna Singh (Akshita Roshan)  akshita@agie.ai  06/28/2024 08:56:10 PM   \n",
       "\n",
       "               Leave Time  Duration (Minutes) Guest  \\\n",
       "0  06/28/2024 08:59:15 PM                   4   Yes   \n",
       "1  06/28/2024 08:57:19 PM                   2   Yes   \n",
       "2  06/28/2024 08:57:20 PM                   2   Yes   \n",
       "3  06/28/2024 08:57:24 PM                   2   Yes   \n",
       "4  06/28/2024 09:19:37 PM                  24    No   \n",
       "\n",
       "  Recording Disclaimer Response In Waiting Room  \n",
       "0                   No Response              No  \n",
       "1                   No Response             Yes  \n",
       "2                   No Response             Yes  \n",
       "3                   No Response             Yes  \n",
       "4                            OK              No  "
      ]
     },
     "execution_count": 36,
     "metadata": {},
     "output_type": "execute_result"
    }
   ],
   "source": [
    "evening.head()"
   ]
  },
  {
   "cell_type": "code",
   "execution_count": 42,
   "id": "02d8e267",
   "metadata": {},
   "outputs": [],
   "source": [
    "#Get the columns present in the CSV files\n",
    "morning_columns = morning_df.columns.tolist()\n",
    "afternoon_columns = afternoon_df.columns.tolist()\n",
    "evening_columns = evening_df.columns.tolist()"
   ]
  },
  {
   "cell_type": "code",
   "execution_count": 43,
   "id": "306a0637",
   "metadata": {},
   "outputs": [
    {
     "name": "stdout",
     "output_type": "stream",
     "text": [
      "Morning CSV Columns: ['Name (Original Name)', 'User Email', 'Join Time', 'Leave Time', 'Duration (Minutes)', 'Guest', 'In Waiting Room']\n",
      "Afternoon CSV Columns: ['Name (Original Name)', 'User Email', 'Join Time', 'Leave Time', 'Duration (Minutes)', 'Guest', 'In Waiting Room']\n",
      "Evening CSV Columns: ['Name (Original Name)', 'User Email', 'Join Time', 'Leave Time', 'Duration (Minutes)', 'Guest', 'Recording Disclaimer Response', 'In Waiting Room']\n"
     ]
    }
   ],
   "source": [
    "# Print the columns\n",
    "print(\"Morning CSV Columns:\", morning_columns)\n",
    "print(\"Afternoon CSV Columns:\", afternoon_columns)\n",
    "print(\"Evening CSV Columns:\", evening_columns)"
   ]
  },
  {
   "cell_type": "code",
   "execution_count": 48,
   "id": "78668b34",
   "metadata": {},
   "outputs": [
    {
     "name": "stdout",
     "output_type": "stream",
     "text": [
      "First few rows of Morning CSV:\n"
     ]
    },
    {
     "data": {
      "text/html": [
       "<div>\n",
       "<style scoped>\n",
       "    .dataframe tbody tr th:only-of-type {\n",
       "        vertical-align: middle;\n",
       "    }\n",
       "\n",
       "    .dataframe tbody tr th {\n",
       "        vertical-align: top;\n",
       "    }\n",
       "\n",
       "    .dataframe thead th {\n",
       "        text-align: right;\n",
       "    }\n",
       "</style>\n",
       "<table border=\"1\" class=\"dataframe\">\n",
       "  <thead>\n",
       "    <tr style=\"text-align: right;\">\n",
       "      <th></th>\n",
       "      <th>Name (Original Name)</th>\n",
       "      <th>User Email</th>\n",
       "      <th>Join Time</th>\n",
       "      <th>Leave Time</th>\n",
       "      <th>Duration (Minutes)</th>\n",
       "      <th>Guest</th>\n",
       "      <th>In Waiting Room</th>\n",
       "    </tr>\n",
       "  </thead>\n",
       "  <tbody>\n",
       "    <tr>\n",
       "      <th>0</th>\n",
       "      <td>Krishna Singh (Akshita Roshan)</td>\n",
       "      <td>akshita@agie.ai</td>\n",
       "      <td>06/28/2024 09:52:45 AM</td>\n",
       "      <td>06/28/2024 10:17:06 AM</td>\n",
       "      <td>25</td>\n",
       "      <td>No</td>\n",
       "      <td>No</td>\n",
       "    </tr>\n",
       "    <tr>\n",
       "      <th>1</th>\n",
       "      <td>Chetan Kumar</td>\n",
       "      <td>NaN</td>\n",
       "      <td>06/28/2024 09:52:52 AM</td>\n",
       "      <td>06/28/2024 09:52:57 AM</td>\n",
       "      <td>1</td>\n",
       "      <td>Yes</td>\n",
       "      <td>Yes</td>\n",
       "    </tr>\n",
       "    <tr>\n",
       "      <th>2</th>\n",
       "      <td>Akshita Roshan</td>\n",
       "      <td>NaN</td>\n",
       "      <td>06/28/2024 09:52:52 AM</td>\n",
       "      <td>06/28/2024 09:53:08 AM</td>\n",
       "      <td>1</td>\n",
       "      <td>Yes</td>\n",
       "      <td>Yes</td>\n",
       "    </tr>\n",
       "    <tr>\n",
       "      <th>3</th>\n",
       "      <td>Kshitij Tardalkar</td>\n",
       "      <td>NaN</td>\n",
       "      <td>06/28/2024 09:52:56 AM</td>\n",
       "      <td>06/28/2024 09:56:52 AM</td>\n",
       "      <td>4</td>\n",
       "      <td>Yes</td>\n",
       "      <td>Yes</td>\n",
       "    </tr>\n",
       "    <tr>\n",
       "      <th>4</th>\n",
       "      <td>Chetan Kumar</td>\n",
       "      <td>NaN</td>\n",
       "      <td>06/28/2024 09:52:57 AM</td>\n",
       "      <td>06/28/2024 10:16:12 AM</td>\n",
       "      <td>24</td>\n",
       "      <td>Yes</td>\n",
       "      <td>No</td>\n",
       "    </tr>\n",
       "  </tbody>\n",
       "</table>\n",
       "</div>"
      ],
      "text/plain": [
       "             Name (Original Name)       User Email               Join Time  \\\n",
       "0  Krishna Singh (Akshita Roshan)  akshita@agie.ai  06/28/2024 09:52:45 AM   \n",
       "1                    Chetan Kumar              NaN  06/28/2024 09:52:52 AM   \n",
       "2                  Akshita Roshan              NaN  06/28/2024 09:52:52 AM   \n",
       "3               Kshitij Tardalkar              NaN  06/28/2024 09:52:56 AM   \n",
       "4                    Chetan Kumar              NaN  06/28/2024 09:52:57 AM   \n",
       "\n",
       "               Leave Time  Duration (Minutes) Guest In Waiting Room  \n",
       "0  06/28/2024 10:17:06 AM                  25    No              No  \n",
       "1  06/28/2024 09:52:57 AM                   1   Yes             Yes  \n",
       "2  06/28/2024 09:53:08 AM                   1   Yes             Yes  \n",
       "3  06/28/2024 09:56:52 AM                   4   Yes             Yes  \n",
       "4  06/28/2024 10:16:12 AM                  24   Yes              No  "
      ]
     },
     "execution_count": 48,
     "metadata": {},
     "output_type": "execute_result"
    }
   ],
   "source": [
    "# Display the first few rows of each DataFrame\n",
    "print(\"First few rows of Morning CSV:\")\n",
    "morning_df.head()"
   ]
  },
  {
   "cell_type": "code",
   "execution_count": 47,
   "id": "1ed82b50",
   "metadata": {},
   "outputs": [
    {
     "name": "stdout",
     "output_type": "stream",
     "text": [
      "First few rows of Afternoon CSV:\n"
     ]
    },
    {
     "data": {
      "text/html": [
       "<div>\n",
       "<style scoped>\n",
       "    .dataframe tbody tr th:only-of-type {\n",
       "        vertical-align: middle;\n",
       "    }\n",
       "\n",
       "    .dataframe tbody tr th {\n",
       "        vertical-align: top;\n",
       "    }\n",
       "\n",
       "    .dataframe thead th {\n",
       "        text-align: right;\n",
       "    }\n",
       "</style>\n",
       "<table border=\"1\" class=\"dataframe\">\n",
       "  <thead>\n",
       "    <tr style=\"text-align: right;\">\n",
       "      <th></th>\n",
       "      <th>Name (Original Name)</th>\n",
       "      <th>User Email</th>\n",
       "      <th>Join Time</th>\n",
       "      <th>Leave Time</th>\n",
       "      <th>Duration (Minutes)</th>\n",
       "      <th>Guest</th>\n",
       "      <th>In Waiting Room</th>\n",
       "    </tr>\n",
       "  </thead>\n",
       "  <tbody>\n",
       "    <tr>\n",
       "      <th>0</th>\n",
       "      <td>Krisha Singh (Akshita Roshan)</td>\n",
       "      <td>akshita@agie.ai</td>\n",
       "      <td>06/28/2024 03:57:40 PM</td>\n",
       "      <td>06/28/2024 04:19:20 PM</td>\n",
       "      <td>22</td>\n",
       "      <td>No</td>\n",
       "      <td>No</td>\n",
       "    </tr>\n",
       "    <tr>\n",
       "      <th>1</th>\n",
       "      <td>Tanuja</td>\n",
       "      <td>NaN</td>\n",
       "      <td>06/28/2024 03:57:49 PM</td>\n",
       "      <td>06/28/2024 03:58:04 PM</td>\n",
       "      <td>1</td>\n",
       "      <td>Yes</td>\n",
       "      <td>Yes</td>\n",
       "    </tr>\n",
       "    <tr>\n",
       "      <th>2</th>\n",
       "      <td>Yash Goel</td>\n",
       "      <td>NaN</td>\n",
       "      <td>06/28/2024 03:57:53 PM</td>\n",
       "      <td>06/28/2024 03:58:09 PM</td>\n",
       "      <td>1</td>\n",
       "      <td>Yes</td>\n",
       "      <td>Yes</td>\n",
       "    </tr>\n",
       "    <tr>\n",
       "      <th>3</th>\n",
       "      <td>Darshan</td>\n",
       "      <td>NaN</td>\n",
       "      <td>06/28/2024 03:57:53 PM</td>\n",
       "      <td>06/28/2024 03:58:09 PM</td>\n",
       "      <td>1</td>\n",
       "      <td>Yes</td>\n",
       "      <td>Yes</td>\n",
       "    </tr>\n",
       "    <tr>\n",
       "      <th>4</th>\n",
       "      <td>sneha pawar</td>\n",
       "      <td>NaN</td>\n",
       "      <td>06/28/2024 03:57:56 PM</td>\n",
       "      <td>06/28/2024 03:58:20 PM</td>\n",
       "      <td>1</td>\n",
       "      <td>Yes</td>\n",
       "      <td>Yes</td>\n",
       "    </tr>\n",
       "  </tbody>\n",
       "</table>\n",
       "</div>"
      ],
      "text/plain": [
       "            Name (Original Name)       User Email               Join Time  \\\n",
       "0  Krisha Singh (Akshita Roshan)  akshita@agie.ai  06/28/2024 03:57:40 PM   \n",
       "1                         Tanuja              NaN  06/28/2024 03:57:49 PM   \n",
       "2                      Yash Goel              NaN  06/28/2024 03:57:53 PM   \n",
       "3                        Darshan              NaN  06/28/2024 03:57:53 PM   \n",
       "4                    sneha pawar              NaN  06/28/2024 03:57:56 PM   \n",
       "\n",
       "               Leave Time  Duration (Minutes) Guest In Waiting Room  \n",
       "0  06/28/2024 04:19:20 PM                  22    No              No  \n",
       "1  06/28/2024 03:58:04 PM                   1   Yes             Yes  \n",
       "2  06/28/2024 03:58:09 PM                   1   Yes             Yes  \n",
       "3  06/28/2024 03:58:09 PM                   1   Yes             Yes  \n",
       "4  06/28/2024 03:58:20 PM                   1   Yes             Yes  "
      ]
     },
     "execution_count": 47,
     "metadata": {},
     "output_type": "execute_result"
    }
   ],
   "source": [
    "print(\"First few rows of Afternoon CSV:\")\n",
    "afternoon_df.head()"
   ]
  },
  {
   "cell_type": "code",
   "execution_count": 49,
   "id": "6f4eec0e",
   "metadata": {},
   "outputs": [
    {
     "name": "stdout",
     "output_type": "stream",
     "text": [
      "First few rows of Evening CSV:\n"
     ]
    },
    {
     "data": {
      "text/html": [
       "<div>\n",
       "<style scoped>\n",
       "    .dataframe tbody tr th:only-of-type {\n",
       "        vertical-align: middle;\n",
       "    }\n",
       "\n",
       "    .dataframe tbody tr th {\n",
       "        vertical-align: top;\n",
       "    }\n",
       "\n",
       "    .dataframe thead th {\n",
       "        text-align: right;\n",
       "    }\n",
       "</style>\n",
       "<table border=\"1\" class=\"dataframe\">\n",
       "  <thead>\n",
       "    <tr style=\"text-align: right;\">\n",
       "      <th></th>\n",
       "      <th>Name (Original Name)</th>\n",
       "      <th>User Email</th>\n",
       "      <th>Join Time</th>\n",
       "      <th>Leave Time</th>\n",
       "      <th>Duration (Minutes)</th>\n",
       "      <th>Guest</th>\n",
       "      <th>Recording Disclaimer Response</th>\n",
       "      <th>In Waiting Room</th>\n",
       "    </tr>\n",
       "  </thead>\n",
       "  <tbody>\n",
       "    <tr>\n",
       "      <th>0</th>\n",
       "      <td>Agrima Jain</td>\n",
       "      <td>NaN</td>\n",
       "      <td>06/28/2024 08:56:01 PM</td>\n",
       "      <td>06/28/2024 08:59:15 PM</td>\n",
       "      <td>4</td>\n",
       "      <td>Yes</td>\n",
       "      <td>No Response</td>\n",
       "      <td>No</td>\n",
       "    </tr>\n",
       "    <tr>\n",
       "      <th>1</th>\n",
       "      <td>AIML-19-SHOUNAK_SARKAR</td>\n",
       "      <td>NaN</td>\n",
       "      <td>06/28/2024 08:56:04 PM</td>\n",
       "      <td>06/28/2024 08:57:19 PM</td>\n",
       "      <td>2</td>\n",
       "      <td>Yes</td>\n",
       "      <td>No Response</td>\n",
       "      <td>Yes</td>\n",
       "    </tr>\n",
       "    <tr>\n",
       "      <th>2</th>\n",
       "      <td>Akshita Roshan</td>\n",
       "      <td>NaN</td>\n",
       "      <td>06/28/2024 08:56:07 PM</td>\n",
       "      <td>06/28/2024 08:57:20 PM</td>\n",
       "      <td>2</td>\n",
       "      <td>Yes</td>\n",
       "      <td>No Response</td>\n",
       "      <td>Yes</td>\n",
       "    </tr>\n",
       "    <tr>\n",
       "      <th>3</th>\n",
       "      <td>Revanth Christober M</td>\n",
       "      <td>NaN</td>\n",
       "      <td>06/28/2024 08:56:08 PM</td>\n",
       "      <td>06/28/2024 08:57:24 PM</td>\n",
       "      <td>2</td>\n",
       "      <td>Yes</td>\n",
       "      <td>No Response</td>\n",
       "      <td>Yes</td>\n",
       "    </tr>\n",
       "    <tr>\n",
       "      <th>4</th>\n",
       "      <td>Krishna Singh (Akshita Roshan)</td>\n",
       "      <td>akshita@agie.ai</td>\n",
       "      <td>06/28/2024 08:56:10 PM</td>\n",
       "      <td>06/28/2024 09:19:37 PM</td>\n",
       "      <td>24</td>\n",
       "      <td>No</td>\n",
       "      <td>OK</td>\n",
       "      <td>No</td>\n",
       "    </tr>\n",
       "  </tbody>\n",
       "</table>\n",
       "</div>"
      ],
      "text/plain": [
       "             Name (Original Name)       User Email               Join Time  \\\n",
       "0                     Agrima Jain              NaN  06/28/2024 08:56:01 PM   \n",
       "1          AIML-19-SHOUNAK_SARKAR              NaN  06/28/2024 08:56:04 PM   \n",
       "2                  Akshita Roshan              NaN  06/28/2024 08:56:07 PM   \n",
       "3            Revanth Christober M              NaN  06/28/2024 08:56:08 PM   \n",
       "4  Krishna Singh (Akshita Roshan)  akshita@agie.ai  06/28/2024 08:56:10 PM   \n",
       "\n",
       "               Leave Time  Duration (Minutes) Guest  \\\n",
       "0  06/28/2024 08:59:15 PM                   4   Yes   \n",
       "1  06/28/2024 08:57:19 PM                   2   Yes   \n",
       "2  06/28/2024 08:57:20 PM                   2   Yes   \n",
       "3  06/28/2024 08:57:24 PM                   2   Yes   \n",
       "4  06/28/2024 09:19:37 PM                  24    No   \n",
       "\n",
       "  Recording Disclaimer Response In Waiting Room  \n",
       "0                   No Response              No  \n",
       "1                   No Response             Yes  \n",
       "2                   No Response             Yes  \n",
       "3                   No Response             Yes  \n",
       "4                            OK              No  "
      ]
     },
     "execution_count": 49,
     "metadata": {},
     "output_type": "execute_result"
    }
   ],
   "source": [
    "print(\"First few rows of Evening CSV:\")\n",
    "evening_df.head()"
   ]
  },
  {
   "cell_type": "code",
   "execution_count": 50,
   "id": "0c0794db",
   "metadata": {},
   "outputs": [
    {
     "name": "stdout",
     "output_type": "stream",
     "text": [
      "Summary statistics for Morning CSV:\n"
     ]
    },
    {
     "data": {
      "text/html": [
       "<div>\n",
       "<style scoped>\n",
       "    .dataframe tbody tr th:only-of-type {\n",
       "        vertical-align: middle;\n",
       "    }\n",
       "\n",
       "    .dataframe tbody tr th {\n",
       "        vertical-align: top;\n",
       "    }\n",
       "\n",
       "    .dataframe thead th {\n",
       "        text-align: right;\n",
       "    }\n",
       "</style>\n",
       "<table border=\"1\" class=\"dataframe\">\n",
       "  <thead>\n",
       "    <tr style=\"text-align: right;\">\n",
       "      <th></th>\n",
       "      <th>Duration (Minutes)</th>\n",
       "    </tr>\n",
       "  </thead>\n",
       "  <tbody>\n",
       "    <tr>\n",
       "      <th>count</th>\n",
       "      <td>724.000000</td>\n",
       "    </tr>\n",
       "    <tr>\n",
       "      <th>mean</th>\n",
       "      <td>14.006906</td>\n",
       "    </tr>\n",
       "    <tr>\n",
       "      <th>std</th>\n",
       "      <td>13.083991</td>\n",
       "    </tr>\n",
       "    <tr>\n",
       "      <th>min</th>\n",
       "      <td>1.000000</td>\n",
       "    </tr>\n",
       "    <tr>\n",
       "      <th>25%</th>\n",
       "      <td>4.000000</td>\n",
       "    </tr>\n",
       "    <tr>\n",
       "      <th>50%</th>\n",
       "      <td>13.000000</td>\n",
       "    </tr>\n",
       "    <tr>\n",
       "      <th>75%</th>\n",
       "      <td>16.000000</td>\n",
       "    </tr>\n",
       "    <tr>\n",
       "      <th>max</th>\n",
       "      <td>97.000000</td>\n",
       "    </tr>\n",
       "  </tbody>\n",
       "</table>\n",
       "</div>"
      ],
      "text/plain": [
       "       Duration (Minutes)\n",
       "count          724.000000\n",
       "mean            14.006906\n",
       "std             13.083991\n",
       "min              1.000000\n",
       "25%              4.000000\n",
       "50%             13.000000\n",
       "75%             16.000000\n",
       "max             97.000000"
      ]
     },
     "execution_count": 50,
     "metadata": {},
     "output_type": "execute_result"
    }
   ],
   "source": [
    "print(\"Summary statistics for Morning CSV:\")\n",
    "morning_df.describe()"
   ]
  },
  {
   "cell_type": "code",
   "execution_count": 51,
   "id": "56b99691",
   "metadata": {},
   "outputs": [
    {
     "name": "stdout",
     "output_type": "stream",
     "text": [
      "Summary statistics for Afternoon CSV:\n"
     ]
    },
    {
     "data": {
      "text/html": [
       "<div>\n",
       "<style scoped>\n",
       "    .dataframe tbody tr th:only-of-type {\n",
       "        vertical-align: middle;\n",
       "    }\n",
       "\n",
       "    .dataframe tbody tr th {\n",
       "        vertical-align: top;\n",
       "    }\n",
       "\n",
       "    .dataframe thead th {\n",
       "        text-align: right;\n",
       "    }\n",
       "</style>\n",
       "<table border=\"1\" class=\"dataframe\">\n",
       "  <thead>\n",
       "    <tr style=\"text-align: right;\">\n",
       "      <th></th>\n",
       "      <th>Duration (Minutes)</th>\n",
       "    </tr>\n",
       "  </thead>\n",
       "  <tbody>\n",
       "    <tr>\n",
       "      <th>count</th>\n",
       "      <td>221.000000</td>\n",
       "    </tr>\n",
       "    <tr>\n",
       "      <th>mean</th>\n",
       "      <td>21.642534</td>\n",
       "    </tr>\n",
       "    <tr>\n",
       "      <th>std</th>\n",
       "      <td>23.234649</td>\n",
       "    </tr>\n",
       "    <tr>\n",
       "      <th>min</th>\n",
       "      <td>0.000000</td>\n",
       "    </tr>\n",
       "    <tr>\n",
       "      <th>25%</th>\n",
       "      <td>5.000000</td>\n",
       "    </tr>\n",
       "    <tr>\n",
       "      <th>50%</th>\n",
       "      <td>13.000000</td>\n",
       "    </tr>\n",
       "    <tr>\n",
       "      <th>75%</th>\n",
       "      <td>24.000000</td>\n",
       "    </tr>\n",
       "    <tr>\n",
       "      <th>max</th>\n",
       "      <td>74.000000</td>\n",
       "    </tr>\n",
       "  </tbody>\n",
       "</table>\n",
       "</div>"
      ],
      "text/plain": [
       "       Duration (Minutes)\n",
       "count          221.000000\n",
       "mean            21.642534\n",
       "std             23.234649\n",
       "min              0.000000\n",
       "25%              5.000000\n",
       "50%             13.000000\n",
       "75%             24.000000\n",
       "max             74.000000"
      ]
     },
     "execution_count": 51,
     "metadata": {},
     "output_type": "execute_result"
    }
   ],
   "source": [
    "print(\"Summary statistics for Afternoon CSV:\")\n",
    "afternoon_df.describe()"
   ]
  },
  {
   "cell_type": "code",
   "execution_count": 52,
   "id": "4a8946f1",
   "metadata": {},
   "outputs": [
    {
     "name": "stdout",
     "output_type": "stream",
     "text": [
      "Summary statistics for Evening CSV:\n"
     ]
    },
    {
     "data": {
      "text/html": [
       "<div>\n",
       "<style scoped>\n",
       "    .dataframe tbody tr th:only-of-type {\n",
       "        vertical-align: middle;\n",
       "    }\n",
       "\n",
       "    .dataframe tbody tr th {\n",
       "        vertical-align: top;\n",
       "    }\n",
       "\n",
       "    .dataframe thead th {\n",
       "        text-align: right;\n",
       "    }\n",
       "</style>\n",
       "<table border=\"1\" class=\"dataframe\">\n",
       "  <thead>\n",
       "    <tr style=\"text-align: right;\">\n",
       "      <th></th>\n",
       "      <th>Duration (Minutes)</th>\n",
       "    </tr>\n",
       "  </thead>\n",
       "  <tbody>\n",
       "    <tr>\n",
       "      <th>count</th>\n",
       "      <td>579.000000</td>\n",
       "    </tr>\n",
       "    <tr>\n",
       "      <th>mean</th>\n",
       "      <td>17.309154</td>\n",
       "    </tr>\n",
       "    <tr>\n",
       "      <th>std</th>\n",
       "      <td>17.728326</td>\n",
       "    </tr>\n",
       "    <tr>\n",
       "      <th>min</th>\n",
       "      <td>0.000000</td>\n",
       "    </tr>\n",
       "    <tr>\n",
       "      <th>25%</th>\n",
       "      <td>3.000000</td>\n",
       "    </tr>\n",
       "    <tr>\n",
       "      <th>50%</th>\n",
       "      <td>13.000000</td>\n",
       "    </tr>\n",
       "    <tr>\n",
       "      <th>75%</th>\n",
       "      <td>20.000000</td>\n",
       "    </tr>\n",
       "    <tr>\n",
       "      <th>max</th>\n",
       "      <td>85.000000</td>\n",
       "    </tr>\n",
       "  </tbody>\n",
       "</table>\n",
       "</div>"
      ],
      "text/plain": [
       "       Duration (Minutes)\n",
       "count          579.000000\n",
       "mean            17.309154\n",
       "std             17.728326\n",
       "min              0.000000\n",
       "25%              3.000000\n",
       "50%             13.000000\n",
       "75%             20.000000\n",
       "max             85.000000"
      ]
     },
     "execution_count": 52,
     "metadata": {},
     "output_type": "execute_result"
    }
   ],
   "source": [
    "print(\"Summary statistics for Evening CSV:\")\n",
    "evening_df.describe()"
   ]
  },
  {
   "cell_type": "code",
   "execution_count": 53,
   "id": "6ca0cf0e",
   "metadata": {},
   "outputs": [
    {
     "name": "stdout",
     "output_type": "stream",
     "text": [
      "Missing values in Morning CSV:\n",
      "Name (Original Name)      0\n",
      "User Email              708\n",
      "Join Time                 0\n",
      "Leave Time                0\n",
      "Duration (Minutes)        0\n",
      "Guest                     0\n",
      "In Waiting Room           0\n",
      "dtype: int64 \n",
      "\n"
     ]
    }
   ],
   "source": [
    "# Check for missing values\n",
    "print(\"Missing values in Morning CSV:\")\n",
    "print(morning_df.isnull().sum(), \"\\n\")"
   ]
  },
  {
   "cell_type": "code",
   "execution_count": 54,
   "id": "db172440",
   "metadata": {},
   "outputs": [
    {
     "name": "stdout",
     "output_type": "stream",
     "text": [
      "Missing values in Afternoon CSV:\n",
      "Name (Original Name)      0\n",
      "User Email              215\n",
      "Join Time                 0\n",
      "Leave Time                0\n",
      "Duration (Minutes)        0\n",
      "Guest                     0\n",
      "In Waiting Room           0\n",
      "dtype: int64 \n",
      "\n"
     ]
    }
   ],
   "source": [
    "print(\"Missing values in Afternoon CSV:\")\n",
    "print(afternoon_df.isnull().sum(), \"\\n\")"
   ]
  },
  {
   "cell_type": "code",
   "execution_count": 55,
   "id": "961e9a7d",
   "metadata": {},
   "outputs": [
    {
     "name": "stdout",
     "output_type": "stream",
     "text": [
      "Missing values in Evening CSV:\n",
      "Name (Original Name)               0\n",
      "User Email                       567\n",
      "Join Time                          0\n",
      "Leave Time                         0\n",
      "Duration (Minutes)                 0\n",
      "Guest                              0\n",
      "Recording Disclaimer Response      0\n",
      "In Waiting Room                    0\n",
      "dtype: int64 \n",
      "\n"
     ]
    }
   ],
   "source": [
    "print(\"Missing values in Evening CSV:\")\n",
    "print(evening_df.isnull().sum(), \"\\n\")"
   ]
  },
  {
   "cell_type": "code",
   "execution_count": 56,
   "id": "e6dbab95",
   "metadata": {},
   "outputs": [],
   "source": [
    "#Data Grouping and Summarization:"
   ]
  },
  {
   "cell_type": "code",
   "execution_count": 57,
   "id": "8baa7c45",
   "metadata": {},
   "outputs": [],
   "source": [
    "# Combine the dataframes\n",
    "combined_df = pd.concat([morning_df, afternoon_df, evening_df])"
   ]
  },
  {
   "cell_type": "code",
   "execution_count": 58,
   "id": "743445da",
   "metadata": {},
   "outputs": [],
   "source": [
    "# Group the data by 'Name (Original Name)' and calculate the total duration for each participant\n",
    "grouped_df = combined_df.groupby('Name (Original Name)').agg({'Duration (Minutes)': 'sum'}).reset_index()"
   ]
  },
  {
   "cell_type": "code",
   "execution_count": 59,
   "id": "0d3fcf5b",
   "metadata": {},
   "outputs": [
    {
     "name": "stdout",
     "output_type": "stream",
     "text": [
      "Total duration for each participant:\n",
      "                         Name (Original Name)  Duration (Minutes)\n",
      "0                           '-Meet Vaghasiya-                  18\n",
      "1                00003121002_Sarath Rajendran                   4\n",
      "2                                091101 10101                   1\n",
      "3                    16010320032_Soham_Khadke                  98\n",
      "4                                    17 SUMEN                   2\n",
      "..                                        ...                 ...\n",
      "366                               sneha pawar                  95\n",
      "367                              sushain devi                  15\n",
      "368  tera sribindhu (2005969 SRIKAR REDDY T.)                  44\n",
      "369                              v.karthikeya                   2\n",
      "370                                  سيد سامي                  20\n",
      "\n",
      "[371 rows x 2 columns]\n"
     ]
    }
   ],
   "source": [
    "# Print the grouped data\n",
    "print(\"Total duration for each participant:\")\n",
    "print(grouped_df)\n"
   ]
  },
  {
   "cell_type": "code",
   "execution_count": 60,
   "id": "2992d591",
   "metadata": {},
   "outputs": [],
   "source": [
    "#analysis task"
   ]
  },
  {
   "cell_type": "code",
   "execution_count": 65,
   "id": "4744fd30",
   "metadata": {},
   "outputs": [
    {
     "name": "stdout",
     "output_type": "stream",
     "text": [
      "Total duration for Morning batch: 10141 minutes\n",
      "Total duration for Afternoon batch: 4783 minutes\n",
      "Total duration for Evening batch: 10022 minutes\n"
     ]
    }
   ],
   "source": [
    "# Calculate the total duration of attendance for each batch\n",
    "total_morning_duration = morning_df['Duration (Minutes)'].sum()\n",
    "total_afternoon_duration = afternoon_df['Duration (Minutes)'].sum()\n",
    "total_evening_duration = evening_df['Duration (Minutes)'].sum()\n",
    "# Print the total durations\n",
    "print(\"Total duration for Morning batch:\", total_morning_duration, \"minutes\")\n",
    "print(\"Total duration for Afternoon batch:\", total_afternoon_duration, \"minutes\")\n",
    "print(\"Total duration for Evening batch:\", total_evening_duration, \"minutes\")"
   ]
  },
  {
   "cell_type": "code",
   "execution_count": 66,
   "id": "bd1d5e06",
   "metadata": {},
   "outputs": [
    {
     "name": "stdout",
     "output_type": "stream",
     "text": [
      "Average duration for Morning batch: 14.006906077348066 minutes\n",
      "Average duration for Afternoon batch: 21.642533936651585 minutes\n",
      "Average duration for Evening batch: 17.30915371329879 minutes\n"
     ]
    }
   ],
   "source": [
    "# Calculate the average duration of attendance for each batch\n",
    "average_morning_duration = morning_df['Duration (Minutes)'].mean()\n",
    "average_afternoon_duration = afternoon_df['Duration (Minutes)'].mean()\n",
    "average_evening_duration = evening_df['Duration (Minutes)'].mean()\n",
    "# Print the average durations\n",
    "print(\"Average duration for Morning batch:\", average_morning_duration, \"minutes\")\n",
    "print(\"Average duration for Afternoon batch:\", average_afternoon_duration, \"minutes\")\n",
    "print(\"Average duration for Evening batch:\", average_evening_duration, \"minutes\")"
   ]
  },
  {
   "cell_type": "code",
   "execution_count": 67,
   "id": "85f522e0",
   "metadata": {},
   "outputs": [
    {
     "name": "stdout",
     "output_type": "stream",
     "text": [
      "Standard deviation for Morning batch: 13.083991119280979 minutes\n",
      "Standard deviation for Afternoon batch: 23.234648908765884 minutes\n",
      "Standard deviation for Evening batch: 17.72832569594548 minutes\n"
     ]
    }
   ],
   "source": [
    "# Calculate the standard deviation of attendance duration for each batch\n",
    "std_dev_morning_duration = morning_df['Duration (Minutes)'].std()\n",
    "std_dev_afternoon_duration = afternoon_df['Duration (Minutes)'].std()\n",
    "std_dev_evening_duration = evening_df['Duration (Minutes)'].std()\n",
    "\n",
    "# Print the standard deviations\n",
    "print(\"Standard deviation for Morning batch:\", std_dev_morning_duration, \"minutes\")\n",
    "print(\"Standard deviation for Afternoon batch:\", std_dev_afternoon_duration, \"minutes\")\n",
    "print(\"Standard deviation for Evening batch:\", std_dev_evening_duration, \"minutes\")"
   ]
  },
  {
   "cell_type": "code",
   "execution_count": 68,
   "id": "c0be0e35",
   "metadata": {},
   "outputs": [
    {
     "name": "stdout",
     "output_type": "stream",
     "text": [
      "Percentage of Morning attendees above average duration: 37.43%\n",
      "Percentage of Afternoon attendees above average duration: 25.79%\n",
      "Percentage of Evening attendees above average duration: 29.53%\n"
     ]
    }
   ],
   "source": [
    "# Calculate the average duration for each batch\n",
    "average_morning_duration = morning_df['Duration (Minutes)'].mean()\n",
    "average_afternoon_duration = afternoon_df['Duration (Minutes)'].mean()\n",
    "average_evening_duration = evening_df['Duration (Minutes)'].mean()\n",
    "\n",
    "# Calculate the percentage of users who attended more than the average duration for each batch\n",
    "morning_above_average = (morning_df['Duration (Minutes)'] > average_morning_duration).mean() * 100\n",
    "afternoon_above_average = (afternoon_df['Duration (Minutes)'] > average_afternoon_duration).mean() * 100\n",
    "evening_above_average = (evening_df['Duration (Minutes)'] > average_evening_duration).mean() * 100\n",
    "\n",
    "# Print the percentages\n",
    "print(f\"Percentage of Morning attendees above average duration: {morning_above_average:.2f}%\")\n",
    "print(f\"Percentage of Afternoon attendees above average duration: {afternoon_above_average:.2f}%\")\n",
    "print(f\"Percentage of Evening attendees above average duration: {evening_above_average:.2f}%\")"
   ]
  },
  {
   "cell_type": "code",
   "execution_count": 69,
   "id": "693815ae",
   "metadata": {},
   "outputs": [],
   "source": [
    "#Duration Buckets Distribution: Plot a histogram showing the number of users in different duration buckets (e.g., 0-10 mins, 10-20 mins, etc.) for each batch."
   ]
  },
  {
   "cell_type": "code",
   "execution_count": 70,
   "id": "fb192e7e",
   "metadata": {},
   "outputs": [],
   "source": [
    "# Define the duration buckets\n",
    "duration_bins = [0, 10, 20, 30, 40, 50, 60, 90, 120, 150]"
   ]
  },
  {
   "cell_type": "code",
   "execution_count": 71,
   "id": "fe4336ff",
   "metadata": {},
   "outputs": [
    {
     "data": {
      "image/png": "[encoded data removed]",
      "text/plain": [
       "<Figure size 1000x600 with 1 Axes>"
      ]
     },
     "metadata": {},
     "output_type": "display_data"
    }
   ],
   "source": [
    "# Plot histogram for Morning batch\n",
    "plt.figure(figsize=(10, 6))\n",
    "plt.hist(morning_df['Duration (Minutes)'], bins=duration_bins, edgecolor='black', alpha=0.7)\n",
    "plt.title('Duration Buckets Distribution - Morning Batch')\n",
    "plt.xlabel('Duration (minutes)')\n",
    "plt.ylabel('Number of Users')\n",
    "plt.xticks(duration_bins)\n",
    "plt.grid(True)\n",
    "plt.tight_layout()\n",
    "plt.show()"
   ]
  },
  {
   "cell_type": "code",
   "execution_count": 72,
   "id": "4c4b04a6",
   "metadata": {},
   "outputs": [
    {
     "data": {
      "image/png": "[encoded data removed]",
      "text/plain": [
       "<Figure size 1000x600 with 1 Axes>"
      ]
     },
     "metadata": {},
     "output_type": "display_data"
    }
   ],
   "source": [
    "# Plot histogram for Afternoon batch\n",
    "plt.figure(figsize=(10, 6))\n",
    "plt.hist(afternoon_df['Duration (Minutes)'], bins=duration_bins, edgecolor='black', alpha=0.7)\n",
    "plt.title('Duration Buckets Distribution - Afternoon Batch')\n",
    "plt.xlabel('Duration (minutes)')\n",
    "plt.ylabel('Number of Users')\n",
    "plt.xticks(duration_bins)\n",
    "plt.grid(True)\n",
    "plt.tight_layout()\n",
    "plt.show()"
   ]
  },
  {
   "cell_type": "code",
   "execution_count": 73,
   "id": "1c507af6",
   "metadata": {},
   "outputs": [
    {
     "data": {
      "image/png": "[encoded data removed]",
      "text/plain": [
       "<Figure size 1000x600 with 1 Axes>"
      ]
     },
     "metadata": {},
     "output_type": "display_data"
    }
   ],
   "source": [
    "# Plot histogram for Evening batch\n",
    "plt.figure(figsize=(10, 6))\n",
    "plt.hist(evening_df['Duration (Minutes)'], bins=duration_bins, edgecolor='black', alpha=0.7)\n",
    "plt.title('Duration Buckets Distribution - Evening Batch')\n",
    "plt.xlabel('Duration (minutes)')\n",
    "plt.ylabel('Number of Users')\n",
    "plt.xticks(duration_bins)\n",
    "plt.grid(True)\n",
    "plt.tight_layout()\n",
    "plt.show()"
   ]
  },
  {
   "cell_type": "code",
   "execution_count": 74,
   "id": "8eeecfc3",
   "metadata": {},
   "outputs": [],
   "source": [
    "#Comparative Analysis: Compare the total duration, average duration, standard deviation, and percentage of users attending more than the average duration across all three batches."
   ]
  },
  {
   "cell_type": "code",
   "execution_count": 76,
   "id": "9d518409",
   "metadata": {},
   "outputs": [],
   "source": [
    "# Calculate total duration for each batch\n",
    "total_morning_duration = morning_df['Duration (Minutes)'].sum()\n",
    "total_afternoon_duration = afternoon_df['Duration (Minutes)'].sum()\n",
    "total_evening_duration = evening_df['Duration (Minutes)'].sum()\n",
    "\n",
    "# Calculate average duration for each batch\n",
    "average_morning_duration = morning_df['Duration (Minutes)'].mean()\n",
    "average_afternoon_duration = afternoon_df['Duration (Minutes)'].mean()\n",
    "average_evening_duration = evening_df['Duration (Minutes)'].mean()\n",
    "\n",
    "# Calculate standard deviation for each batch\n",
    "std_dev_morning_duration = morning_df['Duration (Minutes)'].std()\n",
    "std_dev_afternoon_duration = afternoon_df['Duration (Minutes)'].std()\n",
    "std_dev_evening_duration = evening_df['Duration (Minutes)'].std()\n",
    "\n",
    "# Calculate percentage of users attending more than the average duration for each batch\n",
    "morning_above_average = (morning_df['Duration (Minutes)'] > average_morning_duration).mean() * 100\n",
    "afternoon_above_average = (afternoon_df['Duration (Minutes)'] > average_afternoon_duration).mean() * 100\n",
    "evening_above_average = (evening_df['Duration (Minutes)'] > average_evening_duration).mean() * 100\n"
   ]
  },
  {
   "cell_type": "code",
   "execution_count": 77,
   "id": "cec5f5fc",
   "metadata": {},
   "outputs": [
    {
     "name": "stdout",
     "output_type": "stream",
     "text": [
      "Comparative Analysis for Morning Batch:\n",
      "Total Duration: 10141 minutes\n",
      "Average Duration: 14.01 minutes\n",
      "Standard Deviation: 13.08 minutes\n",
      "Percentage above Average Duration: 37.43%\n",
      "\n"
     ]
    }
   ],
   "source": [
    "# Print the comparative analysis results\n",
    "print(\"Comparative Analysis for Morning Batch:\")\n",
    "print(f\"Total Duration: {total_morning_duration} minutes\")\n",
    "print(f\"Average Duration: {average_morning_duration:.2f} minutes\")\n",
    "print(f\"Standard Deviation: {std_dev_morning_duration:.2f} minutes\")\n",
    "print(f\"Percentage above Average Duration: {morning_above_average:.2f}%\\n\")"
   ]
  },
  {
   "cell_type": "code",
   "execution_count": 78,
   "id": "a7c31f3b",
   "metadata": {},
   "outputs": [
    {
     "name": "stdout",
     "output_type": "stream",
     "text": [
      "Comparative Analysis for Afternoon Batch:\n",
      "Total Duration: 4783 minutes\n",
      "Average Duration: 21.64 minutes\n",
      "Standard Deviation: 23.23 minutes\n",
      "Percentage above Average Duration: 25.79%\n",
      "\n"
     ]
    }
   ],
   "source": [
    "print(\"Comparative Analysis for Afternoon Batch:\")\n",
    "print(f\"Total Duration: {total_afternoon_duration} minutes\")\n",
    "print(f\"Average Duration: {average_afternoon_duration:.2f} minutes\")\n",
    "print(f\"Standard Deviation: {std_dev_afternoon_duration:.2f} minutes\")\n",
    "print(f\"Percentage above Average Duration: {afternoon_above_average:.2f}%\\n\")"
   ]
  },
  {
   "cell_type": "code",
   "execution_count": 79,
   "id": "90b30ada",
   "metadata": {},
   "outputs": [
    {
     "name": "stdout",
     "output_type": "stream",
     "text": [
      "Comparative Analysis for Evening Batch:\n",
      "Total Duration: 10022 minutes\n",
      "Average Duration: 17.31 minutes\n",
      "Standard Deviation: 17.73 minutes\n",
      "Percentage above Average Duration: 29.53%\n"
     ]
    }
   ],
   "source": [
    "print(\"Comparative Analysis for Evening Batch:\")\n",
    "print(f\"Total Duration: {total_evening_duration} minutes\")\n",
    "print(f\"Average Duration: {average_evening_duration:.2f} minutes\")\n",
    "print(f\"Standard Deviation: {std_dev_evening_duration:.2f} minutes\")\n",
    "print(f\"Percentage above Average Duration: {evening_above_average:.2f}%\")"
   ]
  },
  {
   "cell_type": "code",
   "execution_count": 80,
   "id": "1b5ead4e",
   "metadata": {},
   "outputs": [],
   "source": [
    "#Report Genaration"
   ]
  },
  {
   "cell_type": "code",
   "execution_count": 89,
   "id": "a939fd3b",
   "metadata": {},
   "outputs": [
    {
     "name": "stdout",
     "output_type": "stream",
     "text": [
      "Summary Report for Morning Batch:\n",
      "Total Duration: 10141 minutes\n",
      "Average Duration: 14.01 minutes\n",
      "Standard Deviation: 13.08 minutes\n",
      "Percentage above Average Duration: 37.43%\n",
      "\n",
      "Summary Report for Afternoon Batch:\n",
      "Total Duration: 4783 minutes\n",
      "Average Duration: 21.64 minutes\n",
      "Standard Deviation: 23.23 minutes\n",
      "Percentage above Average Duration: 25.79%\n",
      "\n",
      "Summary Report for Evening Batch:\n",
      "Total Duration: 10022 minutes\n",
      "Average Duration: 17.31 minutes\n",
      "Standard Deviation: 17.73 minutes\n",
      "Percentage above Average Duration: 29.53%\n",
      "\n"
     ]
    }
   ],
   "source": [
    "# Import necessary libraries\n",
    "import pandas as pd\n",
    "\n",
    "# Function to generate detailed summary report for a batch\n",
    "def generate_summary_report(df, batch_name):\n",
    "    # Calculate total duration\n",
    "    total_duration = df['Duration (Minutes)'].sum()\n",
    "    \n",
    "    # Calculate average duration\n",
    "    average_duration = df['Duration (Minutes)'].mean()\n",
    "    \n",
    "    # Calculate standard deviation\n",
    "    std_dev_duration = df['Duration (Minutes)'].std()\n",
    "    \n",
    "    # Calculate percentage of users attending more than average duration\n",
    "    above_average_percentage = (df['Duration (Minutes)'] > average_duration).mean() * 100\n",
    "    \n",
    "    # Generate and return detailed summary report\n",
    "    summary_report = f\"Summary Report for {batch_name} Batch:\\n\"\n",
    "    summary_report += f\"Total Duration: {total_duration} minutes\\n\"\n",
    "    summary_report += f\"Average Duration: {average_duration:.2f} minutes\\n\"\n",
    "    summary_report += f\"Standard Deviation: {std_dev_duration:.2f} minutes\\n\"\n",
    "    summary_report += f\"Percentage above Average Duration: {above_average_percentage:.2f}%\\n\"\n",
    "    \n",
    "    return summary_report\n",
    "\n",
    "# Load the CSV files\n",
    "morning_df=pd.read_csv(r\"C:\\Users\\Saikiran\\Downloads\\Morning-28th-June.csv\")\n",
    "afternoon_df=pd.read_csv(r\"C:\\Users\\Saikiran\\Downloads\\Afternoon-28th-June.csv\")\n",
    "evening_df=pd.read_csv(r\"C:\\Users\\Saikiran\\Downloads\\Evening-28th-June.csv\")\n",
    "\n",
    "# Generate detailed summary reports for each batch\n",
    "morning_report = generate_summary_report(morning_df, \"Morning\")\n",
    "afternoon_report = generate_summary_report(afternoon_df, \"Afternoon\")\n",
    "evening_report = generate_summary_report(evening_df, \"Evening\")\n",
    "\n",
    "# Print the detailed summary reports\n",
    "print(morning_report)\n",
    "print(afternoon_report)\n",
    "print(evening_report)\n"
   ]
  },
  {
   "cell_type": "code",
   "execution_count": 90,
   "id": "ed1a00f7",
   "metadata": {},
   "outputs": [
    {
     "data": {
      "image/png": "[encoded data removed]",
      "text/plain": [
       "<Figure size 1200x800 with 4 Axes>"
      ]
     },
     "metadata": {},
     "output_type": "display_data"
    }
   ],
   "source": [
    "import matplotlib.pyplot as plt\n",
    "import pandas as pd\n",
    "\n",
    "# Function to generate detailed summary report for a batch\n",
    "def generate_summary_report(df, batch_name):\n",
    "    # Calculate total duration\n",
    "    total_duration = df['Duration (Minutes)'].sum()\n",
    "    \n",
    "    # Calculate average duration\n",
    "    average_duration = df['Duration (Minutes)'].mean()\n",
    "    \n",
    "    # Calculate standard deviation\n",
    "    std_dev_duration = df['Duration (Minutes)'].std()\n",
    "    \n",
    "    # Calculate percentage of users attending more than average duration\n",
    "    above_average_percentage = (df['Duration (Minutes)'] > average_duration).mean() * 100\n",
    "    \n",
    "    # Generate and return detailed summary report\n",
    "    summary_report = {\n",
    "        'Batch': batch_name,\n",
    "        'Total Duration': total_duration,\n",
    "        'Average Duration': average_duration,\n",
    "        'Standard Deviation': std_dev_duration,\n",
    "        'Percentage above Average Duration': above_average_percentage\n",
    "    }\n",
    "    \n",
    "    return summary_report\n",
    "\n",
    "\n",
    "# Generate detailed summary reports for each batch\n",
    "morning_report = generate_summary_report(morning_df, \"Morning\")\n",
    "afternoon_report = generate_summary_report(afternoon_df, \"Afternoon\")\n",
    "evening_report = generate_summary_report(evening_df, \"Evening\")\n",
    "\n",
    "# Create lists to store summary reports\n",
    "summary_reports = [morning_report, afternoon_report, evening_report]\n",
    "\n",
    "# Extract metrics for plotting\n",
    "batches = [report['Batch'] for report in summary_reports]\n",
    "total_durations = [report['Total Duration'] for report in summary_reports]\n",
    "average_durations = [report['Average Duration'] for report in summary_reports]\n",
    "std_deviations = [report['Standard Deviation'] for report in summary_reports]\n",
    "percentages_above_average = [report['Percentage above Average Duration'] for report in summary_reports]\n",
    "\n",
    "# Plotting\n",
    "plt.figure(figsize=(12, 8))\n",
    "\n",
    "# Plot 1: Bar plot for Total Duration\n",
    "plt.subplot(221)\n",
    "plt.bar(batches, total_durations, color='skyblue')\n",
    "plt.title('Total Duration')\n",
    "plt.ylabel('Duration (minutes)')\n",
    "\n",
    "# Plot 2: Bar plot for Average Duration\n",
    "plt.subplot(222)\n",
    "plt.bar(batches, average_durations, color='salmon')\n",
    "plt.title('Average Duration')\n",
    "plt.ylabel('Duration (minutes)')\n",
    "\n",
    "# Plot 3: Bar plot for Standard Deviation\n",
    "plt.subplot(223)\n",
    "plt.bar(batches, std_deviations, color='lightgreen')\n",
    "plt.title('Standard Deviation')\n",
    "plt.ylabel('Duration (minutes)')\n",
    "\n",
    "# Plot 4: Bar plot for Percentage above Average Duration\n",
    "plt.subplot(224)\n",
    "plt.bar(batches, percentages_above_average, color='lightcoral')\n",
    "plt.title('Percentage above Average Duration')\n",
    "plt.ylabel('Percentage (%)')\n",
    "\n",
    "plt.tight_layout()\n",
    "plt.show()\n"
   ]
  },
  {
   "cell_type": "code",
   "execution_count": 94,
   "id": "3f6dfb7c",
   "metadata": {},
   "outputs": [
    {
     "name": "stdout",
     "output_type": "stream",
     "text": [
      "[{'Batch': 'Morning', 'Total Duration': 10141, 'Average Duration': 14.006906077348066, 'Standard Deviation': 13.083991119280979, 'Percentage above Average Duration': 37.430939226519335}, {'Batch': 'Afternoon', 'Total Duration': 4783, 'Average Duration': 21.642533936651585, 'Standard Deviation': 23.234648908765884, 'Percentage above Average Duration': 25.791855203619914}, {'Batch': 'Evening', 'Total Duration': 10022, 'Average Duration': 17.30915371329879, 'Standard Deviation': 17.72832569594548, 'Percentage above Average Duration': 29.533678756476682}]\n"
     ]
    },
    {
     "data": {
      "image/png": "[encoded data removed]",
      "text/plain": [
       "<Figure size 1200x800 with 4 Axes>"
      ]
     },
     "metadata": {},
     "output_type": "display_data"
    }
   ],
   "source": [
    "import matplotlib.pyplot as plt\n",
    "import pandas as pd\n",
    "\n",
    "# Function to generate detailed summary report for a batch\n",
    "def generate_summary_report(df, batch_name):\n",
    "    # Calculate total duration\n",
    "    total_duration = df['Duration (Minutes)'].sum()\n",
    "    \n",
    "    # Calculate average duration\n",
    "    average_duration = df['Duration (Minutes)'].mean()\n",
    "    \n",
    "    # Calculate standard deviation\n",
    "    std_dev_duration = df['Duration (Minutes)'].std()\n",
    "    \n",
    "    # Calculate percentage of users attending more than average duration\n",
    "    above_average_percentage = (df['Duration (Minutes)'] > average_duration).mean() * 100\n",
    "    \n",
    "    # Generate and return detailed summary report\n",
    "    summary_report = {\n",
    "        'Batch': batch_name,\n",
    "        'Total Duration': total_duration,\n",
    "        'Average Duration': average_duration,\n",
    "        'Standard Deviation': std_dev_duration,\n",
    "        'Percentage above Average Duration': above_average_percentage\n",
    "    }\n",
    "    \n",
    "    return summary_report\n",
    "\n",
    "\n",
    "# Generate detailed summary reports for each batch\n",
    "morning_report = generate_summary_report(morning_df, \"Morning\")\n",
    "afternoon_report = generate_summary_report(afternoon_df, \"Afternoon\")\n",
    "evening_report = generate_summary_report(evening_df, \"Evening\")\n",
    "\n",
    "# Create lists to store summary reports\n",
    "summary_reports = [morning_report, afternoon_report, evening_report]\n",
    "print(summary_reports)\n",
    "\n",
    "# Extract metrics for plotting\n",
    "batches = [report['Batch'] for report in summary_reports]\n",
    "total_durations = [report['Total Duration'] for report in summary_reports]\n",
    "average_durations = [report['Average Duration'] for report in summary_reports]\n",
    "std_deviations = [report['Standard Deviation'] for report in summary_reports]\n",
    "percentages_above_average = [report['Percentage above Average Duration'] for report in summary_reports]\n",
    "\n",
    "# Plotting\n",
    "plt.figure(figsize=(12, 8))\n",
    "\n",
    "# Plot 1: Bar plot for Total Duration\n",
    "plt.subplot(221)\n",
    "plt.bar(batches, total_durations, color='skyblue')\n",
    "plt.title('Total Duration')\n",
    "plt.ylabel('Duration (minutes)')\n",
    "\n",
    "# Plot 2: Bar plot for Average Duration\n",
    "plt.subplot(222)\n",
    "plt.bar(batches, average_durations, color='salmon')\n",
    "plt.title('Average Duration')\n",
    "plt.ylabel('Duration (minutes)')\n",
    "\n",
    "# Plot 3: Bar plot for Standard Deviation\n",
    "plt.subplot(223)\n",
    "plt.bar(batches, std_deviations, color='lightgreen')\n",
    "plt.title('Standard Deviation')\n",
    "plt.ylabel('Duration (minutes)')\n",
    "\n",
    "# Plot 4: Bar plot for Percentage above Average Duration\n",
    "plt.subplot(224)\n",
    "plt.bar(batches, percentages_above_average, color='lightcoral')\n",
    "plt.title('Percentage above Average Duration')\n",
    "plt.ylabel('Percentage (%)')\n",
    "\n",
    "plt.tight_layout()\n",
    "plt.show()\n"
   ]
  },
  {
   "cell_type": "code",
   "execution_count": null,
   "id": "1a8036d3",
   "metadata": {},
   "outputs": [],
   "source": []
  }
 ],
 "metadata": {
  "kernelspec": {
   "display_name": "Python 3 (ipykernel)",
   "language": "python",
   "name": "python3"
  },
  "language_info": {
   "codemirror_mode": {
    "name": "ipython",
    "version": 3
   },
   "file_extension": ".py",
   "mimetype": "text/x-python",
   "name": "python",
   "nbconvert_exporter": "python",
   "pygments_lexer": "ipython3",
   "version": "3.9.13"
  }
 },
 "nbformat": 4,
 "nbformat_minor": 5
}
